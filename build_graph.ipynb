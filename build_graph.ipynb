{
 "cells": [
  {
   "cell_type": "code",
   "execution_count": 1,
   "metadata": {},
   "outputs": [],
   "source": [
    "# 大約要跑 15 分鐘\n",
    "from pyspark import SparkConf, SparkContext\n",
    "import math, sys, glob, random\n",
    "import sympy\n",
    "import numpy as np\n",
    "from nltk import ngrams, word_tokenize\n",
    "import json\n",
    "import matplotlib.pyplot as plt\n",
    "import os\n",
    "from collections import defaultdict\n",
    "from itertools import *\n",
    "import csv\n",
    "\n",
    "# from tqdm.notebook import trange, tqdm\n",
    "plt.style.use('ggplot')\n",
    "conf=SparkConf().set(\"spark.default.parallelism\", 4)\n",
    "# conf = SparkConf().setMaster(\"local\").setAppName(\"Final\")\n",
    "sc = SparkContext(conf=conf)"
   ]
  },
  {
   "cell_type": "code",
   "execution_count": 2,
   "metadata": {},
   "outputs": [
    {
     "name": "stdout",
     "output_type": "stream",
     "text": [
      "CPU times: user 180 ms, sys: 72 ms, total: 252 ms\n",
      "Wall time: 252 ms\n"
     ]
    }
   ],
   "source": [
    "%%time\n",
    "with open('data_path.json', encoding='utf-8') as f:\n",
    "    data_path=json.load(f)"
   ]
  },
  {
   "cell_type": "code",
   "execution_count": 3,
   "metadata": {},
   "outputs": [
    {
     "data": {
      "text/plain": [
       "['./data/all/politics/politics/20140225/M.1393291310.A.21C.json',\n",
       " './data/all/politics/politics/20140225/M.1393281343.A.02B.json',\n",
       " './data/all/politics/politics/20111121/M.1321861642.A.636.json',\n",
       " './data/all/politics/politics/20111121/M.1321875121.A.0FE.json',\n",
       " './data/all/politics/politics/20131110/M.1384016795.A.445.json',\n",
       " './data/all/politics/politics/20131110/M.1384018254.A.402.json',\n",
       " './data/all/politics/politics/20131110/M.1384094585.A.376.json',\n",
       " './data/all/politics/politics/20090827/M.1251349280.A.6D8.json',\n",
       " './data/all/politics/politics/20090827/M.1251380656.A.33E.json',\n",
       " './data/all/politics/politics/20090827/M.1251356301.A.153.json']"
      ]
     },
     "execution_count": 3,
     "metadata": {},
     "output_type": "execute_result"
    }
   ],
   "source": [
    "data_path[:10]"
   ]
  },
  {
   "cell_type": "code",
   "execution_count": 4,
   "metadata": {},
   "outputs": [],
   "source": [
    "data = sc.parallelize(data_path)"
   ]
  },
  {
   "cell_type": "code",
   "execution_count": 5,
   "metadata": {},
   "outputs": [
    {
     "name": "stdout",
     "output_type": "stream",
     "text": [
      "CPU times: user 0 ns, sys: 0 ns, total: 0 ns\n",
      "Wall time: 5.25 ms\n"
     ]
    },
    {
     "data": {
      "text/plain": [
       "{'article_id': 'M.1393291310.A.21C',\n",
       " 'article_title': '[討論] 柯醫師該做的事',\n",
       " 'author': 'kevinjl (無神論者-無神得自由)',\n",
       " 'board': 'politics',\n",
       " 'content': '1.堅持言論自由，保障言論自由 以上是廢話 他該做的事情是：宣傳在台灣任何個人有主張 與中國統一是對台灣有利的事情。 柯醫師不必同意與中國統一是對台灣有利的事情， 但是他必須宣傳，台灣人有權利主張與中國統一是對台灣有利的事情。 他需要利用上媒體曝光的機會，宣傳這種言論自由的理念。 這是目前綠營作不到，而他可以做的事情。 2. 保障目前的既有利益，宣傳公平正義是提高弱勢者的利益 而非砍除既有利益者的利益來實踐。 如果柯醫師能夠在日後的宣傳，言行政策上 讓民眾充分感受到這點，那麼他就會當選了 反之，多數選民還是會選擇讓自己有利益的權貴。 ',\n",
       " 'date': 'Tue Feb 25 09:21:47 2014',\n",
       " 'ip': 'None',\n",
       " 'message_conut': {'all': 5, 'boo': 0, 'count': 1, 'neutral': 4, 'push': 1},\n",
       " 'messages': [{'push_content': '柯文哲本來就不排斥統一，臺獨不是他的主張',\n",
       "   'push_ipdatetime': '183.5.28.167 02/26 10:35',\n",
       "   'push_tag': '推',\n",
       "   'push_userid': 'lkcs'},\n",
       "  {'push_content': '這才是他不會加入民進黨的真正原因，臺獨黨綱',\n",
       "   'push_ipdatetime': '183.5.28.167 02/26 10:35',\n",
       "   'push_tag': '→',\n",
       "   'push_userid': 'lkcs'},\n",
       "  {'push_content': '但柯文哲也不是無條件統一，是有條件的',\n",
       "   'push_ipdatetime': '183.5.28.167 02/26 10:36',\n",
       "   'push_tag': '→',\n",
       "   'push_userid': 'lkcs'},\n",
       "  {'push_content': '民主自由人權法治關懷弱勢永續經營',\n",
       "   'push_ipdatetime': '183.5.28.167 02/26 10:37',\n",
       "   'push_tag': '→',\n",
       "   'push_userid': 'lkcs'},\n",
       "  {'push_content': '他說這是臺灣超越藍綠的共識，我看他說得對',\n",
       "   'push_ipdatetime': '183.5.28.167 02/26 10:37',\n",
       "   'push_tag': '→',\n",
       "   'push_userid': 'lkcs'}]}"
      ]
     },
     "execution_count": 5,
     "metadata": {},
     "output_type": "execute_result"
    }
   ],
   "source": [
    "%%time\n",
    "# 從路徑轉換成 instance\n",
    "def load_instance(x):\n",
    "    with open(x) as f:\n",
    "        d = json.load(f)\n",
    "    return d\n",
    "\n",
    "data = data.map(load_instance)\n",
    "load_instance(data_path[0])"
   ]
  },
  {
   "cell_type": "code",
   "execution_count": 6,
   "metadata": {},
   "outputs": [
    {
     "data": {
      "text/plain": [
       "865042"
      ]
     },
     "execution_count": 6,
     "metadata": {},
     "output_type": "execute_result"
    }
   ],
   "source": [
    "len(data_path)"
   ]
  },
  {
   "cell_type": "code",
   "execution_count": 7,
   "metadata": {},
   "outputs": [
    {
     "data": {
      "text/plain": [
       "[{'article_id': 'M.1393291310.A.21C',\n",
       "  'article_title': '[討論] 柯醫師該做的事',\n",
       "  'author': 'kevinjl (無神論者-無神得自由)',\n",
       "  'board': 'politics',\n",
       "  'content': '1.堅持言論自由，保障言論自由 以上是廢話 他該做的事情是：宣傳在台灣任何個人有主張 與中國統一是對台灣有利的事情。 柯醫師不必同意與中國統一是對台灣有利的事情， 但是他必須宣傳，台灣人有權利主張與中國統一是對台灣有利的事情。 他需要利用上媒體曝光的機會，宣傳這種言論自由的理念。 這是目前綠營作不到，而他可以做的事情。 2. 保障目前的既有利益，宣傳公平正義是提高弱勢者的利益 而非砍除既有利益者的利益來實踐。 如果柯醫師能夠在日後的宣傳，言行政策上 讓民眾充分感受到這點，那麼他就會當選了 反之，多數選民還是會選擇讓自己有利益的權貴。 ',\n",
       "  'date': 'Tue Feb 25 09:21:47 2014',\n",
       "  'ip': 'None',\n",
       "  'message_conut': {'all': 5, 'boo': 0, 'count': 1, 'neutral': 4, 'push': 1},\n",
       "  'messages': [{'push_content': '柯文哲本來就不排斥統一，臺獨不是他的主張',\n",
       "    'push_ipdatetime': '183.5.28.167 02/26 10:35',\n",
       "    'push_tag': '推',\n",
       "    'push_userid': 'lkcs'},\n",
       "   {'push_content': '這才是他不會加入民進黨的真正原因，臺獨黨綱',\n",
       "    'push_ipdatetime': '183.5.28.167 02/26 10:35',\n",
       "    'push_tag': '→',\n",
       "    'push_userid': 'lkcs'},\n",
       "   {'push_content': '但柯文哲也不是無條件統一，是有條件的',\n",
       "    'push_ipdatetime': '183.5.28.167 02/26 10:36',\n",
       "    'push_tag': '→',\n",
       "    'push_userid': 'lkcs'},\n",
       "   {'push_content': '民主自由人權法治關懷弱勢永續經營',\n",
       "    'push_ipdatetime': '183.5.28.167 02/26 10:37',\n",
       "    'push_tag': '→',\n",
       "    'push_userid': 'lkcs'},\n",
       "   {'push_content': '他說這是臺灣超越藍綠的共識，我看他說得對',\n",
       "    'push_ipdatetime': '183.5.28.167 02/26 10:37',\n",
       "    'push_tag': '→',\n",
       "    'push_userid': 'lkcs'}]}]"
      ]
     },
     "execution_count": 7,
     "metadata": {},
     "output_type": "execute_result"
    }
   ],
   "source": [
    "data.take(1)"
   ]
  },
  {
   "cell_type": "code",
   "execution_count": 8,
   "metadata": {},
   "outputs": [
    {
     "name": "stdout",
     "output_type": "stream",
     "text": [
      "CPU times: user 4 ms, sys: 0 ns, total: 4 ms\n",
      "Wall time: 99.4 ms\n"
     ]
    },
    {
     "data": {
      "text/plain": [
       "[[('lkcs', 'kevinjl'), 1],\n",
       " [('mackywei', 'stevegreat08'), 1],\n",
       " [('goodcial', 'stevegreat08'), 4],\n",
       " [('yukiss', 'stevegreat08'), 1],\n",
       " [('starcloud', 'stevegreat08'), 1]]"
      ]
     },
     "execution_count": 8,
     "metadata": {},
     "output_type": "execute_result"
    }
   ],
   "source": [
    "%%time\n",
    "TAG_SCORE = {'推':1, '噓':-1, '→':0}\n",
    "def count_user_interaction(x, tag):\n",
    "    used = ['author', 'messages']\n",
    "    for i in used:\n",
    "        if i not in x or x[i] == None:\n",
    "            return [[]]\n",
    "    main_user = x['author'].split(' ')[0]\n",
    "    user_comments = defaultdict(lambda : 0)\n",
    "    \n",
    "    # 計算分數\n",
    "    for i in x['messages']:\n",
    "        \n",
    "        uid = i['push_userid']\n",
    "        uscore = tag[i['push_tag']]\n",
    "        user_comments[uid] += uscore\n",
    "    \n",
    "    # 建立 graph\n",
    "    pairs = []\n",
    "    for i in user_comments:\n",
    "        is_neg = user_comments[i]\n",
    "        score = user_comments[i]\n",
    "        if score == 0:\n",
    "            continue\n",
    "        if is_neg:\n",
    "            pair = [(i, main_user), score]\n",
    "        else:\n",
    "            pair = [(main_user, i), score]\n",
    "        pairs.append(pair)\n",
    "        \n",
    "    return pairs\n",
    "\n",
    "# count_user_interaction(load_instance(data_path[0]), TAG_SCORE)\n",
    "data = data.flatMap(lambda x:count_user_interaction(x, TAG_SCORE)).filter(lambda x:x!=[])\n",
    "data.take(5)"
   ]
  },
  {
   "cell_type": "code",
   "execution_count": 9,
   "metadata": {},
   "outputs": [
    {
     "name": "stdout",
     "output_type": "stream",
     "text": [
      "CPU times: user 64 ms, sys: 12 ms, total: 76 ms\n",
      "Wall time: 10min 18s\n"
     ]
    },
    {
     "data": {
      "text/plain": [
       "[(('Bonjwa', 'oppo5566'), 1),\n",
       " (('vic9503', 'ssss0960193'), 0),\n",
       " (('qqwweerrqq', 'Tapqou'), 1),\n",
       " (('garyiopp15', 'asole'), 1),\n",
       " (('g1254501', 'psl7634'), 1)]"
      ]
     },
     "execution_count": 9,
     "metadata": {},
     "output_type": "execute_result"
    }
   ],
   "source": [
    "%%time\n",
    "data = data.groupByKey().mapValues(sum)\n",
    "data = data.repartition(1).groupByKey().mapValues(sum).repartition(1)\n",
    "data.take(5)\n",
    "\n"
   ]
  },
  {
   "cell_type": "code",
   "execution_count": 10,
   "metadata": {},
   "outputs": [],
   "source": [
    "data.saveAsTextFile('u2u_interactive_graph')"
   ]
  },
  {
   "cell_type": "code",
   "execution_count": 11,
   "metadata": {},
   "outputs": [],
   "source": [
    "# %%time\n",
    "# graph = data.collect()\n",
    "\n",
    "# graph[0]\n"
   ]
  },
  {
   "cell_type": "code",
   "execution_count": 12,
   "metadata": {},
   "outputs": [],
   "source": [
    "# with open('graph.csv', 'w') as f:\n",
    "#     json.dump(graph, f, indent=4, ensure_ascii=False)\n",
    "# graph[0]"
   ]
  },
  {
   "cell_type": "code",
   "execution_count": 13,
   "metadata": {},
   "outputs": [],
   "source": [
    "############################################################"
   ]
  },
  {
   "cell_type": "code",
   "execution_count": 14,
   "metadata": {},
   "outputs": [],
   "source": [
    "# user to page\n"
   ]
  }
 ],
 "metadata": {
  "kernelspec": {
   "display_name": "Python 3",
   "language": "python",
   "name": "python3"
  },
  "language_info": {
   "codemirror_mode": {
    "name": "ipython",
    "version": 3
   },
   "file_extension": ".py",
   "mimetype": "text/x-python",
   "name": "python",
   "nbconvert_exporter": "python",
   "pygments_lexer": "ipython3",
   "version": "3.7.3"
  }
 },
 "nbformat": 4,
 "nbformat_minor": 2
}

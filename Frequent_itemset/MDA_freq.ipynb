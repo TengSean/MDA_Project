{
 "cells": [
  {
   "cell_type": "markdown",
   "metadata": {},
   "source": [
    "## Final : Frequently Itemset"
   ]
  },
  {
   "cell_type": "code",
   "execution_count": 1,
   "metadata": {},
   "outputs": [],
   "source": [
    "from pyspark import SparkConf, SparkContext\n",
    "import math, sys, glob, random\n",
    "import numpy as np\n",
    "from nltk import ngrams, word_tokenize\n",
    "import json\n",
    "import matplotlib.pyplot as plt\n",
    "plt.style.use('ggplot')\n",
    "\n",
    "conf = SparkConf().setMaster(\"local\").setAppName(\"Final\")\n",
    "sc = SparkContext(conf=conf)"
   ]
  },
  {
   "cell_type": "markdown",
   "metadata": {},
   "source": [
    "## load articals"
   ]
  },
  {
   "cell_type": "code",
   "execution_count": 2,
   "metadata": {},
   "outputs": [],
   "source": [
    "## path setting\n",
    "root = './data'\n",
    "banned_path = root+'/Bad_id.txt'\n",
    "board_roots = [root+'/Gossiping', root+'/HatePolitics', root+'/politics']\n",
    "data_path = []\n",
    "\n",
    "for board_root in board_roots:\n",
    "    data_path += glob.glob(board_root+'/*/*.json')"
   ]
  },
  {
   "cell_type": "code",
   "execution_count": 3,
   "metadata": {},
   "outputs": [
    {
     "data": {
      "text/plain": [
       "['./data/Gossiping/20190629/M.1561740040.A.7FD.json',\n",
       " './data/Gossiping/20190629/M.1561740912.A.873.json']"
      ]
     },
     "execution_count": 3,
     "metadata": {},
     "output_type": "execute_result"
    }
   ],
   "source": [
    "data_path[:2]"
   ]
  },
  {
   "cell_type": "code",
   "execution_count": 4,
   "metadata": {},
   "outputs": [],
   "source": [
    "def load_articals(path):\n",
    "    articals = []\n",
    "    with open(path, encoding='utf-8') as f:\n",
    "        try:\n",
    "            artical = json.load(f)\n",
    "            articals.append(list(set([artical['author']]+[push_artical['push_userid'] for push_artical in artical['messages']])))\n",
    "        except:\n",
    "            pass\n",
    "    return articals"
   ]
  },
  {
   "cell_type": "code",
   "execution_count": 5,
   "metadata": {},
   "outputs": [],
   "source": [
    "paths = sc.parallelize(data_path[:50000])"
   ]
  },
  {
   "cell_type": "code",
   "execution_count": 6,
   "metadata": {},
   "outputs": [],
   "source": [
    "articals = paths.flatMap(load_articals)"
   ]
  },
  {
   "cell_type": "code",
   "execution_count": 7,
   "metadata": {},
   "outputs": [
    {
     "name": "stdout",
     "output_type": "stream",
     "text": [
      "CPU times: user 419 ms, sys: 45.8 ms, total: 465 ms\n",
      "Wall time: 28.9 s\n"
     ]
    },
    {
     "data": {
      "text/plain": [
       "50000"
      ]
     },
     "execution_count": 7,
     "metadata": {},
     "output_type": "execute_result"
    }
   ],
   "source": [
    "%%time\n",
    "len(articals.collect())"
   ]
  },
  {
   "cell_type": "markdown",
   "metadata": {},
   "source": [
    "## load Banned ID"
   ]
  },
  {
   "cell_type": "code",
   "execution_count": 8,
   "metadata": {},
   "outputs": [],
   "source": [
    "Banned_ID = {}"
   ]
  },
  {
   "cell_type": "code",
   "execution_count": 9,
   "metadata": {},
   "outputs": [],
   "source": [
    "def load_bannedID(banned_path=None):\n",
    "    global Banned_ID, all_user\n",
    "    \n",
    "    with open(banned_path) as f:\n",
    "        all_banID = f.read().split('\\n')\n",
    "        all_banID = all_banID[:len(all_banID)-1]\n",
    "        for _id in [banID for banID in all_banID]:\n",
    "            if _id not in Banned_ID:\n",
    "                Banned_ID[_id] = len(Banned_ID)"
   ]
  },
  {
   "cell_type": "code",
   "execution_count": 10,
   "metadata": {},
   "outputs": [],
   "source": [
    "#load_banned ID\n",
    "load_bannedID(banned_path=banned_path)"
   ]
  },
  {
   "cell_type": "markdown",
   "metadata": {},
   "source": [
    "## build bucket\n",
    "check banned id is in artical"
   ]
  },
  {
   "cell_type": "code",
   "execution_count": 11,
   "metadata": {},
   "outputs": [],
   "source": [
    "def check_banned_bucket(ids):\n",
    "    global Banned_ID\n",
    "    for _id in ids:\n",
    "        if(_id in Banned_ID):\n",
    "            return True\n",
    "    return False"
   ]
  },
  {
   "cell_type": "code",
   "execution_count": 12,
   "metadata": {},
   "outputs": [
    {
     "name": "stdout",
     "output_type": "stream",
     "text": [
      "CPU times: user 286 ms, sys: 45.9 ms, total: 332 ms\n",
      "Wall time: 17.7 s\n"
     ]
    },
    {
     "data": {
      "text/plain": [
       "['C13H16ClNO',\n",
       " 'a2016596 (火花)',\n",
       " 'ufap',\n",
       " 'souvlaki',\n",
       " 'puremanly',\n",
       " 'darkdogoblin',\n",
       " 'verakaco',\n",
       " 'flux',\n",
       " 'forwardgo',\n",
       " 'zerolin1226',\n",
       " 'tony84590',\n",
       " 'derrick1220',\n",
       " 'gnehgneh',\n",
       " 'radiotofu',\n",
       " 'Julian9x9x9']"
      ]
     },
     "execution_count": 12,
     "metadata": {},
     "output_type": "execute_result"
    }
   ],
   "source": [
    "%%time\n",
    "#只看那些有跟被banned ID互動文章\n",
    "banned_articals = articals.filter(lambda x: check_banned_bucket(x))\n",
    "banned_articals.collect()[0]"
   ]
  },
  {
   "cell_type": "markdown",
   "metadata": {},
   "source": [
    "所有被banned id的articals中，所有人名字對應到的ID(不管有沒有被banned)"
   ]
  },
  {
   "cell_type": "code",
   "execution_count": 13,
   "metadata": {},
   "outputs": [
    {
     "name": "stdout",
     "output_type": "stream",
     "text": [
      "CPU times: user 492 ms, sys: 23.6 ms, total: 516 ms\n",
      "Wall time: 16.1 s\n"
     ]
    }
   ],
   "source": [
    "%%time\n",
    "all_user = banned_articals.flatMap(lambda x: [i for i in x]).distinct().zipWithIndex()\n",
    "\n",
    "#key : user ID & unique number, val : unique number (name encoding) & user ID\n",
    "tmp = [(key, val) for (key, val) in all_user.collect()] + [(key, val) for (val, key) in all_user.collect()]\n",
    "all_users = {key:val for (key, val) in tmp}"
   ]
  },
  {
   "cell_type": "markdown",
   "metadata": {},
   "source": [
    "<b>user_appears :</b>\n",
    "    - key : user ID encoding number\n",
    "    - value : 在哪幾篇artical出現過"
   ]
  },
  {
   "cell_type": "code",
   "execution_count": 14,
   "metadata": {},
   "outputs": [
    {
     "name": "stdout",
     "output_type": "stream",
     "text": [
      "user_appears key : 0\n",
      "lengths of user_appears val : 35\n"
     ]
    }
   ],
   "source": [
    "user_appears = banned_articals.zipWithIndex().flatMap(lambda x: [(all_users[name], str(x[1])) for name in x[0]])\n",
    "user_appears = user_appears.groupByKey().mapValues(list)\n",
    "print('user_appears key :', user_appears.collect()[0][0])\n",
    "print('lengths of user_appears val :', len(user_appears.collect()[0][1]))"
   ]
  },
  {
   "cell_type": "code",
   "execution_count": null,
   "metadata": {},
   "outputs": [],
   "source": []
  },
  {
   "cell_type": "markdown",
   "metadata": {},
   "source": [
    "## Frequently Itemset"
   ]
  },
  {
   "cell_type": "markdown",
   "metadata": {},
   "source": [
    "## STEP 1. 算每個user的support & 找Threshold\n",
    "每個user的support就是user_appears出現於多少個articals。<br>\n",
    "\n",
    "user ID 依據在出現artical頻率由多至少排序，<br>\n",
    "threshold暫定是出現頻率最多的1/10"
   ]
  },
  {
   "cell_type": "code",
   "execution_count": 15,
   "metadata": {},
   "outputs": [
    {
     "name": "stdout",
     "output_type": "stream",
     "text": [
      "[means 1] 6.1786094435218395\n",
      "[means 2] 1.932310405643739\n",
      "[means 3] 1.0\n",
      "threshold : 1.0\n",
      "CPU times: user 49.7 ms, sys: 4.91 ms, total: 54.6 ms\n",
      "Wall time: 4.48 s\n"
     ]
    }
   ],
   "source": [
    "%%time\n",
    "user_appears = user_appears.sortBy(lambda x: len(x[1]), ascending=False)\n",
    "\n",
    "values = user_appears.map(lambda x: (x[0], len(x[1]))).values().mean()\n",
    "print(\"[means 1]\", values)\n",
    "values = user_appears.map(lambda x: (x[0], len(x[1]))).filter(lambda x: x[1] < values).values().mean()\n",
    "print(\"[means 2]\", values)\n",
    "values = user_appears.map(lambda x: (x[0], len(x[1]))).filter(lambda x: x[1] < values).values().mean()\n",
    "print(\"[means 3]\", values)\n",
    "\n",
    "threshold = values\n",
    "print('threshold :', threshold)"
   ]
  },
  {
   "cell_type": "markdown",
   "metadata": {},
   "source": [
    "## Step 2. 過濾掉user support < threshold的user id"
   ]
  },
  {
   "cell_type": "code",
   "execution_count": 16,
   "metadata": {},
   "outputs": [
    {
     "name": "stdout",
     "output_type": "stream",
     "text": [
      "Length of filtered support :  70461\n",
      "CPU times: user 404 ms, sys: 18.9 ms, total: 423 ms\n",
      "Wall time: 1.91 s\n"
     ]
    }
   ],
   "source": [
    "%%time\n",
    "filtered_support = user_appears.filter(lambda x: len(x[1]) >= threshold)\n",
    "print('Length of filtered support : ', len(filtered_support.collect()))"
   ]
  },
  {
   "cell_type": "markdown",
   "metadata": {},
   "source": [
    "過濾後的user中，有多少是沒被banned的："
   ]
  },
  {
   "cell_type": "code",
   "execution_count": 17,
   "metadata": {},
   "outputs": [
    {
     "name": "stdout",
     "output_type": "stream",
     "text": [
      "How many normal users after filtered : 69745\n",
      "CPU times: user 2.01 s, sys: 72.6 ms, total: 2.08 s\n",
      "Wall time: 4.94 s\n"
     ]
    }
   ],
   "source": [
    "%%time\n",
    "normal_users = filtered_support.filter(lambda x: all_users[x[0]] not in Banned_ID)\n",
    "print('How many normal users after filtered :', len(normal_users.collect()))"
   ]
  },
  {
   "cell_type": "markdown",
   "metadata": {},
   "source": [
    "過濾後的user中，有多少是被banned的："
   ]
  },
  {
   "cell_type": "code",
   "execution_count": 18,
   "metadata": {},
   "outputs": [
    {
     "name": "stdout",
     "output_type": "stream",
     "text": [
      "How many banned users in all banned articals: 716\n",
      "CPU times: user 2.44 s, sys: 33.7 ms, total: 2.47 s\n",
      "Wall time: 4.78 s\n"
     ]
    }
   ],
   "source": [
    "%%time\n",
    "banned_users = filtered_support.filter(lambda x: all_users[x[0]] in Banned_ID)\n",
    "print('How many banned users in all banned articals:', len(banned_users.collect()))"
   ]
  },
  {
   "cell_type": "markdown",
   "metadata": {},
   "source": [
    "## Step 3. Association Rules\n",
    "    conf(banned ID -> not banned ID) : 有banned ID的bucket中，也有出現not banned ID的機率\n",
    "    - 誰常常跟Banned ID在同篇文章中出現"
   ]
  },
  {
   "cell_type": "markdown",
   "metadata": {},
   "source": [
    "## support for (banned 交集 not banned)\n",
    "產生被banned ID跟沒被banned ID的pairs，看每個normal ID跟每個banned ID一起出現在同個artical中多少次。"
   ]
  },
  {
   "cell_type": "code",
   "execution_count": 19,
   "metadata": {},
   "outputs": [],
   "source": [
    "def mapper(x):\n",
    "    normal, banned = x[0], x[1]\n",
    "    result = list(set(normal[1]).intersection(set(banned[1])))\n",
    "    return ((normal[0], banned[0]), len(result))"
   ]
  },
  {
   "cell_type": "code",
   "execution_count": 20,
   "metadata": {},
   "outputs": [
    {
     "name": "stdout",
     "output_type": "stream",
     "text": [
      "CPU times: user 1.96 ms, sys: 215 µs, total: 2.18 ms\n",
      "Wall time: 10.7 ms\n"
     ]
    }
   ],
   "source": [
    "%%time\n",
    "#key : (normal user ID, banned user ID), val : 這兩個ID落在同個artical的次數\n",
    "pairs = normal_users.cartesian(banned_users).map(mapper).filter(lambda x: x[1] != 0)"
   ]
  },
  {
   "cell_type": "code",
   "execution_count": 21,
   "metadata": {},
   "outputs": [
    {
     "name": "stdout",
     "output_type": "stream",
     "text": [
      "((1705, 1906), 21)\n"
     ]
    }
   ],
   "source": [
    "print(pairs.collect()[0])"
   ]
  },
  {
   "cell_type": "code",
   "execution_count": 22,
   "metadata": {},
   "outputs": [
    {
     "name": "stdout",
     "output_type": "stream",
     "text": [
      "CPU times: user 729 ms, sys: 35.4 ms, total: 764 ms\n",
      "Wall time: 2.85 s\n"
     ]
    }
   ],
   "source": [
    "%%time\n",
    "dict_user_appears = user_appears.collectAsMap()\n",
    "conf = pairs.map(lambda x: (x[0], x[1] / len(dict_user_appears[x[0][1]]))).sortBy(lambda x: x[1], ascending=False)"
   ]
  },
  {
   "cell_type": "code",
   "execution_count": 23,
   "metadata": {},
   "outputs": [
    {
     "data": {
      "text/plain": [
       "[((1705, 5612), 1.0), ((1705, 45514), 1.0), ((1705, 45533), 1.0)]"
      ]
     },
     "execution_count": 23,
     "metadata": {},
     "output_type": "execute_result"
    }
   ],
   "source": [
    "conf.collect()[:3]"
   ]
  },
  {
   "cell_type": "markdown",
   "metadata": {},
   "source": [
    "## interesting Association Rules"
   ]
  },
  {
   "cell_type": "code",
   "execution_count": 24,
   "metadata": {},
   "outputs": [],
   "source": [
    "NUM_BUCKETS = len(banned_articals.collect())"
   ]
  },
  {
   "cell_type": "code",
   "execution_count": 25,
   "metadata": {},
   "outputs": [],
   "source": [
    "interest = conf.map(lambda x: (x[0], x[1]-(len(dict_user_appears[x[0][0]]) / NUM_BUCKETS)))\n",
    "interest = interest.filter(lambda x: x[1] > 0.5).sortBy(lambda x: x[1], ascending=False)"
   ]
  },
  {
   "cell_type": "code",
   "execution_count": 26,
   "metadata": {},
   "outputs": [
    {
     "name": "stdout",
     "output_type": "stream",
     "text": [
      "CPU times: user 5.19 s, sys: 137 ms, total: 5.32 s\n",
      "Wall time: 4min 37s\n"
     ]
    },
    {
     "data": {
      "text/plain": [
       "[((3263, 3274), 0.9997343251859724),\n",
       " ((4057, 4069), 0.9997343251859724),\n",
       " ((4058, 4069), 0.9997343251859724),\n",
       " ((4059, 4069), 0.9997343251859724),\n",
       " ((4068, 4069), 0.9997343251859724),\n",
       " ((4780, 4804), 0.9997343251859724),\n",
       " ((4780, 4856), 0.9997343251859724),\n",
       " ((4802, 4804), 0.9997343251859724),\n",
       " ((4802, 4856), 0.9997343251859724),\n",
       " ((5145, 5135), 0.9997343251859724)]"
      ]
     },
     "execution_count": 26,
     "metadata": {},
     "output_type": "execute_result"
    }
   ],
   "source": [
    "%%time\n",
    "#(normal id, banned id), how interesting[0, 1]\n",
    "interest.collect()[:10]"
   ]
  },
  {
   "cell_type": "code",
   "execution_count": 27,
   "metadata": {},
   "outputs": [],
   "source": [
    "interest_username = interest.map(lambda x: ((all_users[x[0][0]], all_users[x[0][1]]), x[1]))"
   ]
  },
  {
   "cell_type": "markdown",
   "metadata": {},
   "source": [
    "## top 10 interest Associateion Rule\n",
    "被banned ID在的artical，沒有被banned的ID也常出現在那個aritcal上。"
   ]
  },
  {
   "cell_type": "code",
   "execution_count": 28,
   "metadata": {},
   "outputs": [
    {
     "name": "stdout",
     "output_type": "stream",
     "text": [
      "banned ID -> normal ID : interest associate value\n",
      "\n",
      "ruchkunt -> rencher : 0.9997343251859724\n",
      "undersky825 -> timeflying : 0.9997343251859724\n",
      "undersky825 -> wxes9050605 : 0.9997343251859724\n",
      "undersky825 -> chunhung : 0.9997343251859724\n",
      "undersky825 -> wwwaa1217 (Rwei) : 0.9997343251859724\n",
      "greatbibi -> hwaien : 0.9997343251859724\n",
      "zogane -> hwaien : 0.9997343251859724\n",
      "greatbibi -> a61192909 : 0.9997343251859724\n",
      "zogane -> a61192909 : 0.9997343251859724\n",
      "bjzx5 -> newmp4 : 0.9997343251859724\n",
      "CPU times: user 3.89 s, sys: 88.3 ms, total: 3.98 s\n",
      "Wall time: 2min 50s\n"
     ]
    }
   ],
   "source": [
    "%%time\n",
    "result = interest_username.collect()[:10]\n",
    "\n",
    "print(\"banned ID -> normal ID :\", \"interest associate value\")\n",
    "print(\"\")\n",
    "for val in result:\n",
    "    print(val[0][1]+\" -> \"+val[0][0], \": \"+str(val[1]))"
   ]
  },
  {
   "cell_type": "markdown",
   "metadata": {},
   "source": [
    "## 可能潛在的網軍"
   ]
  },
  {
   "cell_type": "code",
   "execution_count": 29,
   "metadata": {},
   "outputs": [],
   "source": [
    "army = interest_username.map(lambda x: (x[0][0], x[1])).groupByKey().sortBy(lambda x: len(x[1]), ascending=False).mapValues(list)"
   ]
  },
  {
   "cell_type": "code",
   "execution_count": 30,
   "metadata": {},
   "outputs": [
    {
     "name": "stdout",
     "output_type": "stream",
     "text": [
      "18200\n",
      "CPU times: user 149 ms, sys: 431 µs, total: 150 ms\n",
      "Wall time: 2min 43s\n"
     ]
    }
   ],
   "source": [
    "%%time\n",
    "print(len(army.collect()))"
   ]
  },
  {
   "cell_type": "code",
   "execution_count": 31,
   "metadata": {},
   "outputs": [
    {
     "data": {
      "text/plain": [
       "[('Cersei',\n",
       "  [0.9375664187035069,\n",
       "   0.9375664187035069,\n",
       "   0.9375664187035069,\n",
       "   0.9375664187035069,\n",
       "   0.9375664187035069,\n",
       "   0.9375664187035069,\n",
       "   0.9375664187035069,\n",
       "   0.9375664187035069,\n",
       "   0.9375664187035069,\n",
       "   0.9375664187035069,\n",
       "   0.9375664187035069,\n",
       "   0.9375664187035069,\n",
       "   0.9375664187035069,\n",
       "   0.9375664187035069,\n",
       "   0.9375664187035069,\n",
       "   0.9375664187035069,\n",
       "   0.9375664187035069,\n",
       "   0.9375664187035069,\n",
       "   0.9375664187035069,\n",
       "   0.9375664187035069,\n",
       "   0.9375664187035069,\n",
       "   0.9375664187035069,\n",
       "   0.9375664187035069,\n",
       "   0.9375664187035069,\n",
       "   0.9375664187035069,\n",
       "   0.8775664187035068,\n",
       "   0.86064334178043,\n",
       "   0.8542330853701735,\n",
       "   0.8429718241089122,\n",
       "   0.8125664187035069,\n",
       "   0.8125664187035069,\n",
       "   0.8071316360948112,\n",
       "   0.8071316360948112,\n",
       "   0.794709275846364,\n",
       "   0.7875664187035069,\n",
       "   0.783720264857353,\n",
       "   0.783720264857353,\n",
       "   0.7796716818614016,\n",
       "   0.7796716818614016,\n",
       "   0.7708997520368402,\n",
       "   0.7708997520368402,\n",
       "   0.7708997520368402,\n",
       "   0.7708997520368402,\n",
       "   0.7629632441003322,\n",
       "   0.7375664187035069,\n",
       "   0.7375664187035069,\n",
       "   0.7375664187035069,\n",
       "   0.7375664187035069,\n",
       "   0.7375664187035069,\n",
       "   0.7232807044177926,\n",
       "   0.7232807044177926,\n",
       "   0.7201751143556808,\n",
       "   0.7153441964812847,\n",
       "   0.7125664187035069,\n",
       "   0.7067971879342761,\n",
       "   0.6949193598799774,\n",
       "   0.6914125725496607,\n",
       "   0.6875664187035069,\n",
       "   0.6875664187035069,\n",
       "   0.6875664187035069,\n",
       "   0.6875664187035069,\n",
       "   0.6875664187035069,\n",
       "   0.6875664187035069,\n",
       "   0.6708997520368402,\n",
       "   0.6708997520368402,\n",
       "   0.6708997520368402,\n",
       "   0.6648391459762342,\n",
       "   0.6648391459762342,\n",
       "   0.6648391459762342,\n",
       "   0.6563164187035069,\n",
       "   0.6555151366522248,\n",
       "   0.6518521329892212,\n",
       "   0.6518521329892212,\n",
       "   0.6518521329892212,\n",
       "   0.6518521329892212,\n",
       "   0.6518521329892212,\n",
       "   0.6518521329892212,\n",
       "   0.6375664187035068,\n",
       "   0.6332185926165503,\n",
       "   0.6298741110111992,\n",
       "   0.6250664187035069,\n",
       "   0.6250664187035069,\n",
       "   0.6217769450192964,\n",
       "   0.6114794621817677,\n",
       "   0.6042330853701735,\n",
       "   0.6042330853701735,\n",
       "   0.6042330853701735,\n",
       "   0.6042330853701735,\n",
       "   0.6042330853701735,\n",
       "   0.6042330853701735,\n",
       "   0.6042330853701735,\n",
       "   0.6042330853701735,\n",
       "   0.6042330853701735,\n",
       "   0.6042330853701735,\n",
       "   0.6042330853701735,\n",
       "   0.6042330853701735,\n",
       "   0.6042330853701735,\n",
       "   0.6042330853701735,\n",
       "   0.6042330853701735,\n",
       "   0.6042330853701735,\n",
       "   0.594709275846364,\n",
       "   0.5914125725496607,\n",
       "   0.5875664187035069,\n",
       "   0.5804235615606498,\n",
       "   0.5804235615606498,\n",
       "   0.5739300550671432,\n",
       "   0.5739300550671432,\n",
       "   0.5691453660719279,\n",
       "   0.5625664187035069,\n",
       "   0.5625664187035069,\n",
       "   0.5529510340881223,\n",
       "   0.5521497520368402,\n",
       "   0.548677529814618,\n",
       "   0.548677529814618,\n",
       "   0.5375664187035069,\n",
       "   0.5375664187035069,\n",
       "   0.5375664187035069,\n",
       "   0.5375664187035069,\n",
       "   0.5375664187035069,\n",
       "   0.5375664187035069,\n",
       "   0.5375664187035069,\n",
       "   0.5375664187035069,\n",
       "   0.5375664187035069,\n",
       "   0.5375664187035069,\n",
       "   0.5375664187035069,\n",
       "   0.5375664187035069,\n",
       "   0.5375664187035069,\n",
       "   0.5313164187035069,\n",
       "   0.5301590112960994,\n",
       "   0.5284755096125978,\n",
       "   0.5208997520368402,\n",
       "   0.5208997520368402,\n",
       "   0.5208997520368402,\n",
       "   0.5165137871245595,\n",
       "   0.5144894956265837,\n",
       "   0.5089949901320783,\n",
       "   0.5089949901320783,\n",
       "   0.5089949901320783,\n",
       "   0.5089949901320783,\n",
       "   0.5089949901320783,\n",
       "   0.5089949901320783,\n",
       "   0.5006732148200117,\n",
       "   0.5000664187035069,\n",
       "   0.5000664187035069,\n",
       "   0.5000664187035069]),\n",
       " ('Corbenikc',\n",
       "  [0.9699787460148778,\n",
       "   0.9699787460148778,\n",
       "   0.9699787460148778,\n",
       "   0.9699787460148778,\n",
       "   0.9699787460148778,\n",
       "   0.9699787460148778,\n",
       "   0.9699787460148778,\n",
       "   0.9699787460148778,\n",
       "   0.9699787460148778,\n",
       "   0.9699787460148778,\n",
       "   0.9699787460148778,\n",
       "   0.9699787460148778,\n",
       "   0.9699787460148778,\n",
       "   0.9699787460148778,\n",
       "   0.9699787460148778,\n",
       "   0.9699787460148778,\n",
       "   0.9699787460148778,\n",
       "   0.9699787460148778,\n",
       "   0.9699787460148778,\n",
       "   0.9699787460148778,\n",
       "   0.9699787460148778,\n",
       "   0.9099787460148777,\n",
       "   0.8985501745863064,\n",
       "   0.8790696551057868,\n",
       "   0.8699787460148778,\n",
       "   0.8588676349037666,\n",
       "   0.8449787460148778,\n",
       "   0.8366454126815445,\n",
       "   0.8348436108797427,\n",
       "   0.8271216031577349,\n",
       "   0.8199787460148777,\n",
       "   0.8161325921687239,\n",
       "   0.8161325921687239,\n",
       "   0.8161325921687239,\n",
       "   0.8161325921687239,\n",
       "   0.8033120793482111,\n",
       "   0.8033120793482111,\n",
       "   0.8033120793482111,\n",
       "   0.8033120793482111,\n",
       "   0.788160564196696,\n",
       "   0.7824787460148778,\n",
       "   0.7795025555386873,\n",
       "   0.7699787460148778,\n",
       "   0.7699787460148778,\n",
       "   0.7699787460148778,\n",
       "   0.7699787460148778,\n",
       "   0.7699787460148778,\n",
       "   0.7594524302254041,\n",
       "   0.7556930317291635,\n",
       "   0.7525874416670517,\n",
       "   0.7477565237926556,\n",
       "   0.7449787460148778,\n",
       "   0.7408120793482111,\n",
       "   0.7199787460148778,\n",
       "   0.7199787460148778,\n",
       "   0.7199787460148778,\n",
       "   0.7199787460148778,\n",
       "   0.7199787460148778,\n",
       "   0.7199787460148778,\n",
       "   0.7199787460148778,\n",
       "   0.7199787460148778,\n",
       "   0.7199787460148778,\n",
       "   0.7068208512780356,\n",
       "   0.703312079348211,\n",
       "   0.6949787460148777,\n",
       "   0.6922009682371,\n",
       "   0.6879274639635957,\n",
       "   0.6842644603005921,\n",
       "   0.6842644603005921,\n",
       "   0.6842644603005921,\n",
       "   0.6842644603005921,\n",
       "   0.6842644603005921,\n",
       "   0.6842644603005921,\n",
       "   0.6842644603005921,\n",
       "   0.6699787460148777,\n",
       "   0.6699787460148777,\n",
       "   0.6622864383225701,\n",
       "   0.6622864383225701,\n",
       "   0.6574787460148778,\n",
       "   0.6574787460148778,\n",
       "   0.6541892723306673,\n",
       "   0.6541892723306673,\n",
       "   0.6449787460148778,\n",
       "   0.6366454126815444,\n",
       "   0.6366454126815444,\n",
       "   0.6366454126815444,\n",
       "   0.6366454126815444,\n",
       "   0.6366454126815444,\n",
       "   0.6366454126815444,\n",
       "   0.6366454126815444,\n",
       "   0.6366454126815444,\n",
       "   0.6366454126815444,\n",
       "   0.6366454126815444,\n",
       "   0.6366454126815444,\n",
       "   0.6366454126815444,\n",
       "   0.6366454126815444,\n",
       "   0.6366454126815444,\n",
       "   0.6366454126815444,\n",
       "   0.6366454126815444,\n",
       "   0.6366454126815444,\n",
       "   0.6271216031577349,\n",
       "   0.622152659058356,\n",
       "   0.622152659058356,\n",
       "   0.6199787460148778,\n",
       "   0.6128358888720207,\n",
       "   0.6128358888720207,\n",
       "   0.6128358888720207,\n",
       "   0.6128358888720207,\n",
       "   0.6110043870405188,\n",
       "   0.6063423823785141,\n",
       "   0.6063423823785141,\n",
       "   0.6063423823785141,\n",
       "   0.6015576933832988,\n",
       "   0.5949787460148778,\n",
       "   0.5949787460148778,\n",
       "   0.5922009682371,\n",
       "   0.5890263650624968,\n",
       "   0.5699787460148777,\n",
       "   0.5699787460148777,\n",
       "   0.5699787460148777,\n",
       "   0.5699787460148777,\n",
       "   0.5699787460148777,\n",
       "   0.5699787460148777,\n",
       "   0.5561856425666019,\n",
       "   0.5533120793482111,\n",
       "   0.5533120793482111,\n",
       "   0.5533120793482111,\n",
       "   0.5414073174434492,\n",
       "   0.5414073174434492,\n",
       "   0.5366454126815444,\n",
       "   0.5154332914694232,\n",
       "   0.5154332914694232,\n",
       "   0.5084402844764162,\n",
       "   0.5084402844764162,\n",
       "   0.5033120793482111,\n",
       "   0.5033120793482111]),\n",
       " ('Moratti',\n",
       "  [0.8573326248671626,\n",
       "   0.8573326248671626,\n",
       "   0.8573326248671626,\n",
       "   0.8573326248671626,\n",
       "   0.8573326248671626,\n",
       "   0.8573326248671626,\n",
       "   0.8573326248671626,\n",
       "   0.8573326248671626,\n",
       "   0.8573326248671626,\n",
       "   0.8573326248671626,\n",
       "   0.8573326248671626,\n",
       "   0.8573326248671626,\n",
       "   0.8573326248671626,\n",
       "   0.8573326248671626,\n",
       "   0.8573326248671626,\n",
       "   0.8573326248671626,\n",
       "   0.8573326248671626,\n",
       "   0.8573326248671626,\n",
       "   0.8573326248671626,\n",
       "   0.8573326248671626,\n",
       "   0.8573326248671626,\n",
       "   0.8573326248671626,\n",
       "   0.8573326248671626,\n",
       "   0.8573326248671626,\n",
       "   0.8573326248671626,\n",
       "   0.8573326248671626,\n",
       "   0.8573326248671626,\n",
       "   0.8573326248671626,\n",
       "   0.8573326248671626,\n",
       "   0.8573326248671626,\n",
       "   0.8573326248671626,\n",
       "   0.8573326248671626,\n",
       "   0.8573326248671626,\n",
       "   0.8573326248671626,\n",
       "   0.8573326248671626,\n",
       "   0.8573326248671626,\n",
       "   0.8573326248671626,\n",
       "   0.8573326248671626,\n",
       "   0.8573326248671626,\n",
       "   0.7323326248671626,\n",
       "   0.7323326248671626,\n",
       "   0.6906659582004959,\n",
       "   0.6755144430489808,\n",
       "   0.6573326248671626,\n",
       "   0.6573326248671626,\n",
       "   0.6480302992857672,\n",
       "   0.6265633940979318,\n",
       "   0.6265633940979318,\n",
       "   0.6265633940979318,\n",
       "   0.6073326248671626,\n",
       "   0.6073326248671626,\n",
       "   0.6073326248671626,\n",
       "   0.6073326248671626,\n",
       "   0.6073326248671626,\n",
       "   0.6073326248671626,\n",
       "   0.6073326248671626,\n",
       "   0.6073326248671626,\n",
       "   0.6073326248671626,\n",
       "   0.6024306640828488,\n",
       "   0.5846053521398898,\n",
       "   0.5846053521398898,\n",
       "   0.5846053521398898,\n",
       "   0.5773326248671625,\n",
       "   0.5747239292149886,\n",
       "   0.5716183391528769,\n",
       "   0.5716183391528769,\n",
       "   0.5573326248671625,\n",
       "   0.5573326248671625,\n",
       "   0.5573326248671625,\n",
       "   0.5573326248671625,\n",
       "   0.5496403171748548,\n",
       "   0.5496403171748548,\n",
       "   0.541543151182952,\n",
       "   0.5381836886969498,\n",
       "   0.5373326248671626,\n",
       "   0.5365779078860304,\n",
       "   0.5352987265620778,\n",
       "   0.5347519797058722,\n",
       "   0.5323326248671626,\n",
       "   0.5304095479440857,\n",
       "   0.5239992915338292,\n",
       "   0.5239992915338292,\n",
       "   0.5239992915338292,\n",
       "   0.5239992915338292,\n",
       "   0.5239992915338292,\n",
       "   0.5239992915338292,\n",
       "   0.5239992915338292,\n",
       "   0.5239992915338292,\n",
       "   0.5239992915338292,\n",
       "   0.5239992915338292,\n",
       "   0.5239992915338292,\n",
       "   0.5239992915338292,\n",
       "   0.5239992915338292,\n",
       "   0.5239992915338292,\n",
       "   0.5239992915338292,\n",
       "   0.5239992915338292,\n",
       "   0.5239992915338292,\n",
       "   0.5239992915338292,\n",
       "   0.5239992915338292,\n",
       "   0.5239992915338292,\n",
       "   0.5239992915338292,\n",
       "   0.519304455853078,\n",
       "   0.5173326248671626,\n",
       "   0.5144754820100197,\n",
       "   0.5144754820100197,\n",
       "   0.5140490427776103,\n",
       "   0.5135826248671626,\n",
       "   0.5101104026449403,\n",
       "   0.5073326248671626,\n",
       "   0.5043914483965743,\n",
       "   0.5043914483965743,\n",
       "   0.5001897677243055,\n",
       "   0.5001897677243055,\n",
       "   0.5001897677243055]),\n",
       " ('ymx3xc',\n",
       "  [0.905951115834219,\n",
       "   0.905951115834219,\n",
       "   0.905951115834219,\n",
       "   0.905951115834219,\n",
       "   0.905951115834219,\n",
       "   0.905951115834219,\n",
       "   0.905951115834219,\n",
       "   0.905951115834219,\n",
       "   0.905951115834219,\n",
       "   0.905951115834219,\n",
       "   0.905951115834219,\n",
       "   0.905951115834219,\n",
       "   0.905951115834219,\n",
       "   0.905951115834219,\n",
       "   0.905951115834219,\n",
       "   0.905951115834219,\n",
       "   0.905951115834219,\n",
       "   0.905951115834219,\n",
       "   0.905951115834219,\n",
       "   0.905951115834219,\n",
       "   0.905951115834219,\n",
       "   0.905951115834219,\n",
       "   0.905951115834219,\n",
       "   0.905951115834219,\n",
       "   0.905951115834219,\n",
       "   0.905951115834219,\n",
       "   0.905951115834219,\n",
       "   0.905951115834219,\n",
       "   0.905951115834219,\n",
       "   0.905951115834219,\n",
       "   0.905951115834219,\n",
       "   0.905951115834219,\n",
       "   0.905951115834219,\n",
       "   0.905951115834219,\n",
       "   0.905951115834219,\n",
       "   0.905951115834219,\n",
       "   0.905951115834219,\n",
       "   0.905951115834219,\n",
       "   0.905951115834219,\n",
       "   0.905951115834219,\n",
       "   0.905951115834219,\n",
       "   0.905951115834219,\n",
       "   0.905951115834219,\n",
       "   0.905951115834219,\n",
       "   0.905951115834219,\n",
       "   0.905951115834219,\n",
       "   0.905951115834219,\n",
       "   0.905951115834219,\n",
       "   0.905951115834219,\n",
       "   0.705951115834219,\n",
       "   0.705951115834219,\n",
       "   0.705951115834219,\n",
       "   0.6751818850649882,\n",
       "   0.655951115834219,\n",
       "   0.655951115834219,\n",
       "   0.655951115834219,\n",
       "   0.6170622269453301,\n",
       "   0.6118334687753955,\n",
       "   0.593451115834219,\n",
       "   0.593451115834219,\n",
       "   0.593451115834219,\n",
       "   0.5901616421500084,\n",
       "   0.585951115834219,\n",
       "   0.5851963988530868,\n",
       "   0.579420503589321,\n",
       "   0.5726177825008856,\n",
       "   0.5726177825008856,\n",
       "   0.5726177825008856,\n",
       "   0.5726177825008856,\n",
       "   0.5726177825008856,\n",
       "   0.5726177825008856,\n",
       "   0.5726177825008856,\n",
       "   0.5726177825008856,\n",
       "   0.5726177825008856,\n",
       "   0.5726177825008856,\n",
       "   0.5726177825008856,\n",
       "   0.5726177825008856,\n",
       "   0.5726177825008856,\n",
       "   0.5597972696803728,\n",
       "   0.5571139065318934,\n",
       "   0.555951115834219,\n",
       "   0.5511124061567996,\n",
       "   0.5488082586913618,\n",
       "   0.5488082586913618,\n",
       "   0.5488082586913618,\n",
       "   0.5477421606103383,\n",
       "   0.54697675685986,\n",
       "   0.545951115834219,\n",
       "   0.5442489881746445,\n",
       "   0.5423147521978553,\n",
       "   0.5423147521978553,\n",
       "   0.5423147521978553,\n",
       "   0.5360881021355888,\n",
       "   0.5345225444056475,\n",
       "   0.530951115834219,\n",
       "   0.530951115834219,\n",
       "   0.530951115834219,\n",
       "   0.530951115834219,\n",
       "   0.530951115834219,\n",
       "   0.524998734881838,\n",
       "   0.5241329340160371,\n",
       "   0.5213357312188344,\n",
       "   0.5188543416406706,\n",
       "   0.515326115834219,\n",
       "   0.514646768008132,\n",
       "   0.5059511158342189,\n",
       "   0.5059511158342189,\n",
       "   0.5059511158342189,\n",
       "   0.5059511158342189,\n",
       "   0.5059511158342189,\n",
       "   0.5059511158342189,\n",
       "   0.5059511158342189,\n",
       "   0.5031733380564412]),\n",
       " ('oops66',\n",
       "  [0.9195005313496281,\n",
       "   0.9195005313496281,\n",
       "   0.9195005313496281,\n",
       "   0.9195005313496281,\n",
       "   0.9195005313496281,\n",
       "   0.9195005313496281,\n",
       "   0.9195005313496281,\n",
       "   0.9195005313496281,\n",
       "   0.9195005313496281,\n",
       "   0.9195005313496281,\n",
       "   0.9195005313496281,\n",
       "   0.9195005313496281,\n",
       "   0.9195005313496281,\n",
       "   0.9195005313496281,\n",
       "   0.9195005313496281,\n",
       "   0.9195005313496281,\n",
       "   0.9195005313496281,\n",
       "   0.9195005313496281,\n",
       "   0.9195005313496281,\n",
       "   0.9195005313496281,\n",
       "   0.9195005313496281,\n",
       "   0.9195005313496281,\n",
       "   0.9195005313496281,\n",
       "   0.9195005313496281,\n",
       "   0.9195005313496281,\n",
       "   0.9195005313496281,\n",
       "   0.9195005313496281,\n",
       "   0.7766433884924852,\n",
       "   0.7528338646829614,\n",
       "   0.7528338646829614,\n",
       "   0.7376823495314463,\n",
       "   0.7195005313496281,\n",
       "   0.7195005313496281,\n",
       "   0.7195005313496281,\n",
       "   0.6887313005803973,\n",
       "   0.6814052932543899,\n",
       "   0.6695005313496281,\n",
       "   0.6695005313496281,\n",
       "   0.6695005313496281,\n",
       "   0.6695005313496281,\n",
       "   0.6695005313496281,\n",
       "   0.6695005313496281,\n",
       "   0.6695005313496281,\n",
       "   0.6695005313496281,\n",
       "   0.6695005313496281,\n",
       "   0.6630902749393717,\n",
       "   0.6467732586223554,\n",
       "   0.6337862456353424,\n",
       "   0.6337862456353424,\n",
       "   0.6337862456353424,\n",
       "   0.619500531349628,\n",
       "   0.6118082236573203,\n",
       "   0.6070005313496281,\n",
       "   0.6070005313496281,\n",
       "   0.6037110576654175,\n",
       "   0.6013187131678098,\n",
       "   0.5945005313496281,\n",
       "   0.5861671980162947,\n",
       "   0.5861671980162947,\n",
       "   0.5861671980162947,\n",
       "   0.5861671980162947,\n",
       "   0.5861671980162947,\n",
       "   0.5861671980162947,\n",
       "   0.5861671980162947,\n",
       "   0.5861671980162947,\n",
       "   0.5861671980162947,\n",
       "   0.5861671980162947,\n",
       "   0.5861671980162947,\n",
       "   0.5861671980162947,\n",
       "   0.5861671980162947,\n",
       "   0.5861671980162947,\n",
       "   0.5861671980162947,\n",
       "   0.5861671980162947,\n",
       "   0.5861671980162947,\n",
       "   0.5861671980162947,\n",
       "   0.5861671980162947,\n",
       "   0.5861671980162947,\n",
       "   0.5757505313496281,\n",
       "   0.5716744443931063,\n",
       "   0.5695005313496281,\n",
       "   0.562357674206771,\n",
       "   0.562357674206771,\n",
       "   0.5558641677132644,\n",
       "   0.5445005313496281,\n",
       "   0.5445005313496281,\n",
       "   0.5445005313496281,\n",
       "   0.5445005313496281,\n",
       "   0.5445005313496281,\n",
       "   0.5411221529712497,\n",
       "   0.5348851467342435,\n",
       "   0.5348851467342435,\n",
       "   0.5348851467342435,\n",
       "   0.52734366860453,\n",
       "   0.519500531349628,\n",
       "   0.519500531349628,\n",
       "   0.519500531349628,\n",
       "   0.519500531349628,\n",
       "   0.519500531349628,\n",
       "   0.519500531349628,\n",
       "   0.519500531349628,\n",
       "   0.519500531349628,\n",
       "   0.5028338646829614])]"
      ]
     },
     "execution_count": 31,
     "metadata": {},
     "output_type": "execute_result"
    }
   ],
   "source": [
    "army.collect()[:5]"
   ]
  },
  {
   "cell_type": "markdown",
   "metadata": {},
   "source": [
    "## 寫檔"
   ]
  },
  {
   "cell_type": "code",
   "execution_count": 32,
   "metadata": {},
   "outputs": [],
   "source": [
    "army.map(lambda x: (x[0], len(x[1]))).saveAsTextFile('army_freq_sortByLen')"
   ]
  },
  {
   "cell_type": "code",
   "execution_count": 34,
   "metadata": {},
   "outputs": [],
   "source": [
    "army.map(lambda x: (x[0], max(x[1]))).sortBy(lambda x: x[1], ascending=False).saveAsTextFile('army_freq_sortByRank')"
   ]
  },
  {
   "cell_type": "code",
   "execution_count": null,
   "metadata": {},
   "outputs": [],
   "source": []
  }
 ],
 "metadata": {
  "kernelspec": {
   "display_name": "Python 3",
   "language": "python",
   "name": "python3"
  },
  "language_info": {
   "codemirror_mode": {
    "name": "ipython",
    "version": 3
   },
   "file_extension": ".py",
   "mimetype": "text/x-python",
   "name": "python",
   "nbconvert_exporter": "python",
   "pygments_lexer": "ipython3",
   "version": "3.6.8"
  }
 },
 "nbformat": 4,
 "nbformat_minor": 2
}

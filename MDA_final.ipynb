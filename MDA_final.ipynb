{
 "cells": [
  {
   "cell_type": "code",
   "execution_count": 1,
   "metadata": {},
   "outputs": [],
   "source": [
    "from pyspark import SparkConf, SparkContext\n",
    "import math, sys, glob, random\n",
    "import sympy\n",
    "import numpy as np\n",
    "from nltk import ngrams, word_tokenize\n",
    "import json\n",
    "import matplotlib.pyplot as plt\n",
    "import os\n",
    "from itertools import *\n",
    "# from tqdm.notebook import trange, tqdm\n",
    "plt.style.use('ggplot')\n",
    "\n",
    "conf = SparkConf().setMaster(\"local\").setAppName(\"Final\")\n",
    "sc = SparkContext(conf=conf)"
   ]
  },
  {
   "cell_type": "code",
   "execution_count": 2,
   "metadata": {},
   "outputs": [
    {
     "name": "stdout",
     "output_type": "stream",
     "text": [
      "12805\n",
      "CPU times: user 1min 51s, sys: 26.4 s, total: 2min 17s\n",
      "Wall time: 3min 14s\n"
     ]
    }
   ],
   "source": [
    "%%time\n",
    "gossip = []\n",
    "data_path = []\n",
    "error = 0\n",
    "success = 0\n",
    "for root, dirs, files in os.walk(\"./data/all\"):\n",
    "\n",
    "    for file in files:\n",
    "        with open(f'{root}/{file}') as f:\n",
    "            try:\n",
    "                d = json.load(f)\n",
    "                d['author']\n",
    "                d['messages'][0]\n",
    "                if d['author'] == None:\n",
    "                    error += 1\n",
    "                    continue\n",
    "                gossip.append(d)\n",
    "                data_path.append(f'{root}/{file}')\n",
    "                success += 1\n",
    "            except:\n",
    "                error += 1\n",
    "#                 print(f'ERROR: {root}/{file}')\n",
    "\n"
   ]
  },
  {
   "cell_type": "code",
   "execution_count": 3,
   "metadata": {},
   "outputs": [
    {
     "name": "stdout",
     "output_type": "stream",
     "text": [
      "865042\n",
      "12805\n"
     ]
    }
   ],
   "source": [
    "print(success)\n",
    "print(error)"
   ]
  },
  {
   "cell_type": "code",
   "execution_count": 3,
   "metadata": {},
   "outputs": [
    {
     "name": "stdout",
     "output_type": "stream",
     "text": [
      "{\"article_id\": \"M.1008356633.A\", \"article_title\": \"從kkcity轉來的  我們嗜血的媒體在哪裡??????? \", \"author\": \"blaketitle (我是大西瓜)\", \"board\": \"politics\", \"content\": \"作者 [email protected] ( . 看板 politics 標題 [轉錄]北市警察憑什麼搶走我們手中的中華民國國旗？ 時間 興大天樞資訊網 (Thu Dec 13 12:12:13 2001) [離開] [PgUp] [PgDn] 發信人: 仍在流浪中 < [email protected] > 看板: taipei 標 題: 北市警察憑什麼搶走我們手中的中華民國國旗？ 發信站: OpenFind 網路論壇 (Thu Dec 13 06:02:52 2001) 轉信站: Pivotnchunews.nchuccnews.nchuctugatenews.nctufeeder.seed.net.twb Origin: localhost Eric Lo 2001/12/13 AM 02:31:40 北市警察憑什麼搶走我們手中的中華民國國旗？ 十二月十日，在中山足球場，中韓之戰。為了讓我國的足球女將能在國旗的支持下，打贏 這場重要的中韓之戰，我們幾個朋友帶了國旗為中華隊加油。 下午四點，我們打開國旗組合旗竿要開始加油，不多久就發現警察已經近身，並要求我們 將旗幟收起來，由於之前亞洲盃溜冰賽台東模式已有先例，於是我們向警員出示陸委會的 文件。 陸委會林副主委於民國九十年十月五日主持例行記者會紀錄： 主辦國際運動總會正式授權的國際錦標賽應遵守奧會模式 問：昨天在臺東舉行的亞洲杯溜冰賽，中共代表隊抗議我方懸掛國旗，並要求拆除。對於 中共代表隊不合理的要求，陸委會看法如何？ 答： 國內各單項協會等在主辦國際運動總會正式授權的國際錦標賽時，應遵守奧會模式， 但奧會模式僅限於競技場合內，並不適用於一般民眾身上，因此對於民眾在觀眾席 上揮舞國旗或在會場外插國旗等自發行為，若不干擾到比賽之正常進行，主辦單位即無 從勸阻。 我們理解大陸團隊在參加國際或兩岸交流時，必須背負政治干預交流的沈重包袱， 對這些專業人士，我們寄予同情。 相互尊重是從事兩岸交流及參與各種國際競賽起碼應有的風度，希望大陸方面不要將兩岸 民間交流設置政治障礙，作出傷害兩岸人民情感的事。 我們在中山足球場上揮舞國旗為中華隊加油，是我們受憲法保障的自由： 中華民國憲法 第八條：人民身體之自由應予保障。除現行犯之逮捕由法律另定外，非經司法或警察機關 依法定程序，不得逮捕拘禁。 第十一條：人民有言論，講學，著作及出版自由 但是，警察明知沒有法規可以要我們把國旗收起來，卻呼叫更多警力打算強制執行 <img src= http://topia.yam.com/home/lungker/album/2001.12.100011.jpg> 後來來了一堆警察，並威脅我們必須將國旗收起來，我們再次聲明憲法賦予我們在我國國 土揮舞國旗為我國球隊加油的權利，並告知警察人員根據刑法一百六十條，意圖侮辱中華 民國，而公然損壞、除去或汙辱中華民國之國徽、國旗者，處一年以下有期徒刑、拘役或 三百元以下罰金。（當時有ＢＢＣ記者在場，收起國旗絕對構成侮辱中華民國），但是警 方見我們列出法規，自知理虧，卻反而再呼叫更多的人來制止我們。 <img src= http://topia.yam.com/home/lungker/album/2001.12.100041.jpg> 後來一位朋友激動下，從掌旗者的手中將旗子拿過來，同時舉起旗幟左右搖動，並高喊 中華隊加油中華隊加油中華隊加油，結果兩個制服的跟一個的便衣警員 一擁而上，將揮旗的人團團圍住，並合力搶奪我們手中揮舞的國旗，本人站在揮旗者後面 高一格台階的地方，見勢順手將揮旗者高舉的國旗接了過去，並繼續揮旗加油的動作，但 是我個頭小，揮不了幾下便被照片左邊（掌旗者右邊）的那個一線三星的警察抓到旗竿， 那位警察跟我搶奪，於是一陣搶奪拉扯，把我們的組合旗竿折斷了。 在中華民國揮舞中華民國國旗是犯法的嗎？ 警察在外國媒體面前要求除去中華民國國旗是合法合憲的嗎？ 警察在依法無據的情形下，搶奪並損毀人民的財產是合法的嗎？ 請台北市警察局給我們一個交代 == Posted via Openfind 網路論壇 == http://bbs.openfind.com.tw/ 提供免費的登載文章及查詢服務\", \"date\": \"Sat Dec 15 03:08:25 2001\", \"ip\": \"None\", \"message_conut\": {\"all\": 0, \"boo\": 0, \"count\": 0, \"neutral\": 0, \"push\": 0}, \"messages\": []}"
     ]
    }
   ],
   "source": [
    "# !cat ./data/all/politics/politics/20011215/M.1008356633.A.json"
   ]
  },
  {
   "cell_type": "code",
   "execution_count": 4,
   "metadata": {},
   "outputs": [
    {
     "name": "stdout",
     "output_type": "stream",
     "text": [
      "CPU times: user 8min 9s, sys: 12.5 s, total: 8min 21s\n",
      "Wall time: 8min 32s\n"
     ]
    }
   ],
   "source": [
    "%%time\n",
    "with open('data.json', 'w', encoding='utf-8') as f:\n",
    "    json.dump(gossip, f, ensure_ascii=False, indent=4)"
   ]
  },
  {
   "cell_type": "code",
   "execution_count": 5,
   "metadata": {},
   "outputs": [
    {
     "name": "stdout",
     "output_type": "stream",
     "text": [
      "CPU times: user 772 ms, sys: 100 ms, total: 872 ms\n",
      "Wall time: 869 ms\n"
     ]
    }
   ],
   "source": [
    "%%time\n",
    "with open('data_path.json', 'w', encoding='utf-8') as f:\n",
    "    json.dump(data_path, f, ensure_ascii=False, indent=4)"
   ]
  },
  {
   "cell_type": "code",
   "execution_count": null,
   "metadata": {},
   "outputs": [],
   "source": [
    "# %%time\n",
    "# with open('./data.json') as f:\n",
    "#     gossip = json.load(f)"
   ]
  },
  {
   "cell_type": "code",
   "execution_count": null,
   "metadata": {},
   "outputs": [],
   "source": [
    "gossip[0].keys()"
   ]
  },
  {
   "cell_type": "code",
   "execution_count": null,
   "metadata": {},
   "outputs": [],
   "source": [
    "gossip[0]['messages']"
   ]
  },
  {
   "cell_type": "markdown",
   "metadata": {},
   "source": [
    "## Graph Construction"
   ]
  },
  {
   "cell_type": "code",
   "execution_count": null,
   "metadata": {},
   "outputs": [],
   "source": [
    "all_user = {}\n",
    "tag = {'推':1, '噓':-1, '→':0}\n",
    "\n",
    "### comment : 1：贊, 0：沒情緒, -1：噓\n",
    "# Mapper : (Author, [(push_user, comment), (push_user2, comment), ...])\n",
    "def load_users(board):\n",
    "    result = []\n",
    "    for artical in board:\n",
    "        if(artical['author'] not in all_user):\n",
    "            all_user[artical['author']] = len(all_user)\n",
    "        \n",
    "        author = all_user[artical['author']]\n",
    "        \n",
    "        pusher_comment = []\n",
    "        for push_artical in artical['messages']:\n",
    "            if(push_artical['push_userid'] not in all_user):\n",
    "                all_user[push_artical['push_userid']] = len(all_user)\n",
    "            pusher_comment.append((all_user[push_artical['push_userid']], tag[push_artical['push_tag']]))\n",
    "            \n",
    "        result.append((author, pusher_comment))\n",
    "    return result        "
   ]
  },
  {
   "cell_type": "code",
   "execution_count": null,
   "metadata": {},
   "outputs": [],
   "source": [
    "%%time\n",
    "gossip_graph = sc.parallelize(load_users(gossip))"
   ]
  },
  {
   "cell_type": "code",
   "execution_count": null,
   "metadata": {},
   "outputs": [],
   "source": [
    "gossip_graph.collect()[0]"
   ]
  },
  {
   "cell_type": "code",
   "execution_count": 8,
   "metadata": {},
   "outputs": [],
   "source": [
    "g = gossip_graph.flatMap(lambda x: [(x[0], (xx[0], xx[1])) for xx in x[1]])"
   ]
  },
  {
   "cell_type": "code",
   "execution_count": 9,
   "metadata": {},
   "outputs": [
    {
     "data": {
      "text/plain": [
       "(8, (12, 1))"
      ]
     },
     "execution_count": 9,
     "metadata": {},
     "output_type": "execute_result"
    }
   ],
   "source": [
    "g.collect()[22]"
   ]
  },
  {
   "cell_type": "code",
   "execution_count": 10,
   "metadata": {},
   "outputs": [],
   "source": [
    "from operator import add\n",
    "talk = g.map(lambda x: ((x[0], x[1][0]), x[1][1]))\n",
    "talk2 = talk.reduceByKey(add)"
   ]
  },
  {
   "cell_type": "code",
   "execution_count": 11,
   "metadata": {},
   "outputs": [
    {
     "data": {
      "text/plain": [
       "10731"
      ]
     },
     "execution_count": 11,
     "metadata": {},
     "output_type": "execute_result"
    }
   ],
   "source": [
    "len(talk.collect())"
   ]
  },
  {
   "cell_type": "code",
   "execution_count": 12,
   "metadata": {},
   "outputs": [
    {
     "data": {
      "text/plain": [
       "6901"
      ]
     },
     "execution_count": 12,
     "metadata": {},
     "output_type": "execute_result"
    }
   ],
   "source": [
    "len(talk2.collect())"
   ]
  },
  {
   "cell_type": "code",
   "execution_count": 13,
   "metadata": {},
   "outputs": [
    {
     "data": {
      "text/plain": [
       "974"
      ]
     },
     "execution_count": 13,
     "metadata": {},
     "output_type": "execute_result"
    }
   ],
   "source": [
    "len(talk2.filter(lambda x: x[1] < 0).collect())"
   ]
  },
  {
   "cell_type": "code",
   "execution_count": null,
   "metadata": {},
   "outputs": [],
   "source": []
  },
  {
   "cell_type": "code",
   "execution_count": null,
   "metadata": {},
   "outputs": [],
   "source": []
  },
  {
   "cell_type": "code",
   "execution_count": null,
   "metadata": {},
   "outputs": [],
   "source": []
  },
  {
   "cell_type": "code",
   "execution_count": null,
   "metadata": {},
   "outputs": [],
   "source": []
  },
  {
   "cell_type": "code",
   "execution_count": null,
   "metadata": {},
   "outputs": [],
   "source": []
  },
  {
   "cell_type": "code",
   "execution_count": null,
   "metadata": {},
   "outputs": [],
   "source": []
  },
  {
   "cell_type": "code",
   "execution_count": null,
   "metadata": {},
   "outputs": [],
   "source": []
  },
  {
   "cell_type": "code",
   "execution_count": null,
   "metadata": {},
   "outputs": [],
   "source": []
  },
  {
   "cell_type": "code",
   "execution_count": null,
   "metadata": {},
   "outputs": [],
   "source": []
  },
  {
   "cell_type": "code",
   "execution_count": null,
   "metadata": {},
   "outputs": [],
   "source": []
  },
  {
   "cell_type": "code",
   "execution_count": null,
   "metadata": {},
   "outputs": [],
   "source": []
  }
 ],
 "metadata": {
  "kernelspec": {
   "display_name": "Python 3",
   "language": "python",
   "name": "python3"
  },
  "language_info": {
   "codemirror_mode": {
    "name": "ipython",
    "version": 3
   },
   "file_extension": ".py",
   "mimetype": "text/x-python",
   "name": "python",
   "nbconvert_exporter": "python",
   "pygments_lexer": "ipython3",
   "version": "3.7.3"
  }
 },
 "nbformat": 4,
 "nbformat_minor": 2
}

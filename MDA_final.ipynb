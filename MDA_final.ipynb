{
 "cells": [
  {
   "cell_type": "code",
   "execution_count": 1,
   "metadata": {},
   "outputs": [],
   "source": [
    "from pyspark import SparkConf, SparkContext\n",
    "import math, sys, glob, random\n",
    "import sympy\n",
    "import numpy as np\n",
    "from nltk import ngrams, word_tokenize\n",
    "import json\n",
    "import matplotlib.pyplot as plt\n",
    "plt.style.use('ggplot')\n",
    "\n",
    "conf = SparkConf().setMaster(\"local\").setAppName(\"Final\")\n",
    "sc = SparkContext(conf=conf)"
   ]
  },
  {
   "cell_type": "code",
   "execution_count": 2,
   "metadata": {},
   "outputs": [],
   "source": [
    "with open('./data/Gossiping_page_1_11.json') as f:\n",
    "    gossip = json.load(f)"
   ]
  },
  {
   "cell_type": "code",
   "execution_count": 3,
   "metadata": {},
   "outputs": [
    {
     "data": {
      "text/plain": [
       "dict_keys(['board', 'article_id', 'article_title', 'author', 'date', 'content', 'ip', 'message_count', 'messages', 'error'])"
      ]
     },
     "execution_count": 3,
     "metadata": {},
     "output_type": "execute_result"
    }
   ],
   "source": [
    "gossip[0].keys()"
   ]
  },
  {
   "cell_type": "code",
   "execution_count": 4,
   "metadata": {},
   "outputs": [
    {
     "data": {
      "text/plain": [
       "[{'push_tag': '推',\n",
       "  'push_userid': 'kirai',\n",
       "  'push_content': '看來美國也是那種打著自由民主平等卻還是歧視少數ꐠ',\n",
       "  'push_ipdatetime': '61.224.135.28 07/05'},\n",
       " {'push_tag': '→',\n",
       "  'push_userid': 'kirai',\n",
       "  'push_content': '族群的國家...',\n",
       "  'push_ipdatetime': '61.224.135.28 07/05'},\n",
       " {'push_tag': '→',\n",
       "  'push_userid': 'loveangler',\n",
       "  'push_content': '沒辦法,某些運動界還是很保守的,像是棒球籃球',\n",
       "  'push_ipdatetime': '61.231.82.117 07/05'},\n",
       " {'push_tag': '→',\n",
       "  'push_userid': 'loveangler',\n",
       "  'push_content': '他們還是不太能接受同志,因為球員跟球員之間',\n",
       "  'push_ipdatetime': '61.231.82.117 07/05'},\n",
       " {'push_tag': '→',\n",
       "  'push_userid': 'loveangler',\n",
       "  'push_content': '常會有脂體碰撞,或是袒程相見之狀況,一些不了',\n",
       "  'push_ipdatetime': '61.231.82.117 07/05'},\n",
       " {'push_tag': '→',\n",
       "  'push_userid': 'loveangler',\n",
       "  'push_content': '解同志的,或是對同志存有偏見的,就會覺得那樣',\n",
       "  'push_ipdatetime': '61.231.82.117 07/05'},\n",
       " {'push_tag': '→',\n",
       "  'push_userid': 'loveangler',\n",
       "  'push_content': '很怪不自在,只能希望下一代這種偏見會越來越',\n",
       "  'push_ipdatetime': '61.231.82.117 07/05'},\n",
       " {'push_tag': '→',\n",
       "  'push_userid': 'loveangler',\n",
       "  'push_content': '少..希望下一代的教育能對同志有較好的對待',\n",
       "  'push_ipdatetime': '61.231.82.117 07/05'},\n",
       " {'push_tag': '推',\n",
       "  'push_userid': 'loveangler',\n",
       "  'push_content': '不過至少美國還有隊願意給他機會',\n",
       "  'push_ipdatetime': '61.231.82.117 07/05'},\n",
       " {'push_tag': '→',\n",
       "  'push_userid': 'loveangler',\n",
       "  'push_content': '比起日本的全面封殺,美國還是比較開放了',\n",
       "  'push_ipdatetime': '61.231.82.117 07/05'},\n",
       " {'push_tag': '→',\n",
       "  'push_userid': 'loveangler',\n",
       "  'push_content': '關於多田野的各式消息和新聞還有投球影片等',\n",
       "  'push_ipdatetime': '61.231.82.117 07/05'},\n",
       " {'push_tag': '→',\n",
       "  'push_userid': 'loveangler',\n",
       "  'push_content': '在Asian-MLB版 有很多,大家可以去那邊搜',\n",
       "  'push_ipdatetime': '61.231.82.117 07/05'},\n",
       " {'push_tag': '推',\n",
       "  'push_userid': 'landattack',\n",
       "  'push_content': '現在美國改變很多了 再來看這篇感受不同... (2013)',\n",
       "  'push_ipdatetime': '03/16 02:04'},\n",
       " {'push_tag': '→',\n",
       "  'push_userid': 'smmaot',\n",
       "  'push_content': '寧願聽大馬路上的車流噪音也不想聽這種深夜酒鬼們的吵鬧聲',\n",
       "  'push_ipdatetime': '05/30 07:07'},\n",
       " {'push_tag': '→',\n",
       "  'push_userid': 'smmaot',\n",
       "  'push_content': '，還是巷子內的汽車喇叭聲，隔音窗都沒用，無助..',\n",
       "  'push_ipdatetime': '05/30 07:08'},\n",
       " {'push_tag': '噓',\n",
       "  'push_userid': 'ts01788532',\n",
       "  'push_content': '新北 屁孩 慶生 奶油',\n",
       "  'push_ipdatetime': '06/10 13:17'},\n",
       " {'push_tag': '→',\n",
       "  'push_userid': 'jackie955093',\n",
       "  'push_content': '茶飲店？？一進去就說我們不照勞基法，應徵PT又要',\n",
       "  'push_ipdatetime': '12/22 12:59'},\n",
       " {'push_tag': '→',\n",
       "  'push_userid': 'jackie955093',\n",
       "  'push_content': '你做滿一年。去死好了',\n",
       "  'push_ipdatetime': '12/22 12:59'},\n",
       " {'push_tag': '推',\n",
       "  'push_userid': 'whwu7',\n",
       "  'push_content': '小孩子根本不會有時差問題',\n",
       "  'push_ipdatetime': '07/22 13:56'}]"
      ]
     },
     "execution_count": 4,
     "metadata": {},
     "output_type": "execute_result"
    }
   ],
   "source": [
    "gossip[0]['messages']"
   ]
  },
  {
   "cell_type": "markdown",
   "metadata": {},
   "source": [
    "## Graph Construction"
   ]
  },
  {
   "cell_type": "code",
   "execution_count": 5,
   "metadata": {},
   "outputs": [],
   "source": [
    "all_user = {}\n",
    "tag = {'推':1, '噓':-1, '→':0}\n",
    "\n",
    "### comment : 1：贊, 0：沒情緒, -1：噓\n",
    "# Mapper : (Author, [(push_user, comment), (push_user2, comment), ...])\n",
    "def load_users(board):\n",
    "    result = []\n",
    "    for artical in board:\n",
    "        if(artical['author'] not in all_user):\n",
    "            all_user[artical['author']] = len(all_user)\n",
    "        \n",
    "        author = all_user[artical['author']]\n",
    "        \n",
    "        pusher_comment = []\n",
    "        for push_artical in artical['messages']:\n",
    "            if(push_artical['push_userid'] not in all_user):\n",
    "                all_user[push_artical['push_userid']] = len(all_user)\n",
    "            pusher_comment.append((all_user[push_artical['push_userid']], tag[push_artical['push_tag']]))\n",
    "            \n",
    "        result.append((author, pusher_comment))\n",
    "    return result        "
   ]
  },
  {
   "cell_type": "code",
   "execution_count": 6,
   "metadata": {},
   "outputs": [],
   "source": [
    "gossip_graph = sc.parallelize(load_users(gossip))"
   ]
  },
  {
   "cell_type": "code",
   "execution_count": 7,
   "metadata": {},
   "outputs": [
    {
     "data": {
      "text/plain": [
       "(0,\n",
       " [(1, 1),\n",
       "  (1, 0),\n",
       "  (2, 0),\n",
       "  (2, 0),\n",
       "  (2, 0),\n",
       "  (2, 0),\n",
       "  (2, 0),\n",
       "  (2, 0),\n",
       "  (2, 1),\n",
       "  (2, 0),\n",
       "  (2, 0),\n",
       "  (2, 0),\n",
       "  (3, 1),\n",
       "  (4, 0),\n",
       "  (4, 0),\n",
       "  (5, -1),\n",
       "  (6, 0),\n",
       "  (6, 0),\n",
       "  (7, 1)])"
      ]
     },
     "execution_count": 7,
     "metadata": {},
     "output_type": "execute_result"
    }
   ],
   "source": [
    "gossip_graph.collect()[0]"
   ]
  },
  {
   "cell_type": "code",
   "execution_count": 8,
   "metadata": {},
   "outputs": [],
   "source": [
    "g = gossip_graph.flatMap(lambda x: [(x[0], (xx[0], xx[1])) for xx in x[1]])"
   ]
  },
  {
   "cell_type": "code",
   "execution_count": 9,
   "metadata": {},
   "outputs": [
    {
     "data": {
      "text/plain": [
       "(8, (12, 1))"
      ]
     },
     "execution_count": 9,
     "metadata": {},
     "output_type": "execute_result"
    }
   ],
   "source": [
    "g.collect()[22]"
   ]
  },
  {
   "cell_type": "code",
   "execution_count": 10,
   "metadata": {},
   "outputs": [],
   "source": [
    "from operator import add\n",
    "talk = g.map(lambda x: ((x[0], x[1][0]), x[1][1]))\n",
    "talk2 = talk.reduceByKey(add)"
   ]
  },
  {
   "cell_type": "code",
   "execution_count": 11,
   "metadata": {},
   "outputs": [
    {
     "data": {
      "text/plain": [
       "10731"
      ]
     },
     "execution_count": 11,
     "metadata": {},
     "output_type": "execute_result"
    }
   ],
   "source": [
    "len(talk.collect())"
   ]
  },
  {
   "cell_type": "code",
   "execution_count": 12,
   "metadata": {},
   "outputs": [
    {
     "data": {
      "text/plain": [
       "6901"
      ]
     },
     "execution_count": 12,
     "metadata": {},
     "output_type": "execute_result"
    }
   ],
   "source": [
    "len(talk2.collect())"
   ]
  },
  {
   "cell_type": "code",
   "execution_count": 13,
   "metadata": {},
   "outputs": [
    {
     "data": {
      "text/plain": [
       "974"
      ]
     },
     "execution_count": 13,
     "metadata": {},
     "output_type": "execute_result"
    }
   ],
   "source": [
    "len(talk2.filter(lambda x: x[1] < 0).collect())"
   ]
  },
  {
   "cell_type": "code",
   "execution_count": null,
   "metadata": {},
   "outputs": [],
   "source": []
  },
  {
   "cell_type": "code",
   "execution_count": null,
   "metadata": {},
   "outputs": [],
   "source": []
  },
  {
   "cell_type": "code",
   "execution_count": null,
   "metadata": {},
   "outputs": [],
   "source": []
  },
  {
   "cell_type": "code",
   "execution_count": null,
   "metadata": {},
   "outputs": [],
   "source": []
  },
  {
   "cell_type": "code",
   "execution_count": null,
   "metadata": {},
   "outputs": [],
   "source": []
  },
  {
   "cell_type": "code",
   "execution_count": null,
   "metadata": {},
   "outputs": [],
   "source": []
  },
  {
   "cell_type": "code",
   "execution_count": null,
   "metadata": {},
   "outputs": [],
   "source": []
  },
  {
   "cell_type": "code",
   "execution_count": null,
   "metadata": {},
   "outputs": [],
   "source": []
  },
  {
   "cell_type": "code",
   "execution_count": null,
   "metadata": {},
   "outputs": [],
   "source": []
  },
  {
   "cell_type": "code",
   "execution_count": null,
   "metadata": {},
   "outputs": [],
   "source": []
  },
  {
   "cell_type": "code",
   "execution_count": null,
   "metadata": {},
   "outputs": [],
   "source": []
  }
 ],
 "metadata": {
  "kernelspec": {
   "display_name": "Python 3",
   "language": "python",
   "name": "python3"
  },
  "language_info": {
   "codemirror_mode": {
    "name": "ipython",
    "version": 3
   },
   "file_extension": ".py",
   "mimetype": "text/x-python",
   "name": "python",
   "nbconvert_exporter": "python",
   "pygments_lexer": "ipython3",
   "version": "3.6.8"
  }
 },
 "nbformat": 4,
 "nbformat_minor": 2
}

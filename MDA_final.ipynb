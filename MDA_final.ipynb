{
 "cells": [
  {
   "cell_type": "code",
   "execution_count": 1,
   "metadata": {},
   "outputs": [],
   "source": [
    "from pyspark import SparkConf, SparkContext\n",
    "import math, sys, glob, random\n",
    "import sympy\n",
    "import numpy as np\n",
    "from nltk import ngrams, word_tokenize\n",
    "import json\n",
    "import matplotlib.pyplot as plt\n",
    "import os\n",
    "from itertools import *\n",
    "# from tqdm.notebook import trange, tqdm\n",
    "plt.style.use('ggplot')\n",
    "\n",
    "conf = SparkConf().setMaster(\"local\").setAppName(\"Final\")\n",
    "sc = SparkContext(conf=conf)"
   ]
  },
  {
   "cell_type": "code",
   "execution_count": 2,
   "metadata": {},
   "outputs": [
    {
     "name": "stdout",
     "output_type": "stream",
     "text": [
      "CPU times: user 4min 6s, sys: 1min 24s, total: 5min 31s\n",
      "Wall time: 10min 12s\n"
     ]
    }
   ],
   "source": [
    "%%time\n",
    "gossip = []\n",
    "data_path = []\n",
    "error = 0\n",
    "success = 0\n",
    "for root, dirs, files in os.walk(\"./data\"):\n",
    "\n",
    "    for file in files:\n",
    "        with open(f'{root}/{file}') as f:\n",
    "            try:\n",
    "                d = json.load(f)\n",
    "                d['author']\n",
    "                d['messages'][0]\n",
    "                if d['author'] == None:\n",
    "                    error += 1\n",
    "                    continue\n",
    "#                 gossip.append(d)\n",
    "#                 data_path.append(f'{root}/{file}')\n",
    "                success += 1\n",
    "            except:\n",
    "                error += 1\n",
    "#                 print(f'ERROR: {root}/{file}')\n",
    "\n"
   ]
  },
  {
   "cell_type": "code",
   "execution_count": 3,
   "metadata": {},
   "outputs": [
    {
     "name": "stdout",
     "output_type": "stream",
     "text": [
      "1731112\n",
      "30918\n"
     ]
    }
   ],
   "source": [
    "print(success)\n",
    "print(error)"
   ]
  },
  {
   "cell_type": "code",
   "execution_count": 4,
   "metadata": {},
   "outputs": [],
   "source": [
    "# !cat ./data/all/politics/politics/20011215/M.1008356633.A.json"
   ]
  },
  {
   "cell_type": "code",
   "execution_count": 5,
   "metadata": {},
   "outputs": [
    {
     "name": "stdout",
     "output_type": "stream",
     "text": [
      "CPU times: user 39.9 s, sys: 772 ms, total: 40.7 s\n",
      "Wall time: 40.7 s\n"
     ]
    }
   ],
   "source": [
    "%%time\n",
    "with open('HatePolitics_data.json', 'w', encoding='utf-8') as f:\n",
    "    json.dump(gossip, f, ensure_ascii=False, indent=4)"
   ]
  },
  {
   "cell_type": "code",
   "execution_count": 6,
   "metadata": {},
   "outputs": [
    {
     "name": "stdout",
     "output_type": "stream",
     "text": [
      "CPU times: user 60 ms, sys: 20 ms, total: 80 ms\n",
      "Wall time: 81.9 ms\n"
     ]
    }
   ],
   "source": [
    "%%time\n",
    "with open('HatePolitics_data_path.json', 'w', encoding='utf-8') as f:\n",
    "    json.dump(data_path, f, ensure_ascii=False, indent=4)"
   ]
  },
  {
   "cell_type": "code",
   "execution_count": null,
   "metadata": {},
   "outputs": [],
   "source": [
    "# %%time\n",
    "# with open('./data.json') as f:\n",
    "#     gossip = json.load(f)"
   ]
  },
  {
   "cell_type": "code",
   "execution_count": null,
   "metadata": {},
   "outputs": [],
   "source": [
    "gossip[0].keys()"
   ]
  },
  {
   "cell_type": "code",
   "execution_count": null,
   "metadata": {},
   "outputs": [],
   "source": [
    "gossip[0]['messages']"
   ]
  },
  {
   "cell_type": "markdown",
   "metadata": {},
   "source": [
    "## Graph Construction"
   ]
  },
  {
   "cell_type": "code",
   "execution_count": null,
   "metadata": {},
   "outputs": [],
   "source": [
    "all_user = {}\n",
    "tag = {'推':1, '噓':-1, '→':0}\n",
    "\n",
    "### comment : 1：贊, 0：沒情緒, -1：噓\n",
    "# Mapper : (Author, [(push_user, comment), (push_user2, comment), ...])\n",
    "def load_users(board):\n",
    "    result = []\n",
    "    for artical in board:\n",
    "        if(artical['author'] not in all_user):\n",
    "            all_user[artical['author']] = len(all_user)\n",
    "        \n",
    "        author = all_user[artical['author']]\n",
    "        \n",
    "        pusher_comment = []\n",
    "        for push_artical in artical['messages']:\n",
    "            if(push_artical['push_userid'] not in all_user):\n",
    "                all_user[push_artical['push_userid']] = len(all_user)\n",
    "            pusher_comment.append((all_user[push_artical['push_userid']], tag[push_artical['push_tag']]))\n",
    "            \n",
    "        result.append((author, pusher_comment))\n",
    "    return result        "
   ]
  },
  {
   "cell_type": "code",
   "execution_count": null,
   "metadata": {},
   "outputs": [],
   "source": [
    "%%time\n",
    "gossip_graph = sc.parallelize(load_users(gossip))"
   ]
  },
  {
   "cell_type": "code",
   "execution_count": null,
   "metadata": {},
   "outputs": [],
   "source": [
    "gossip_graph.collect()[0]"
   ]
  },
  {
   "cell_type": "code",
   "execution_count": 8,
   "metadata": {},
   "outputs": [],
   "source": [
    "g = gossip_graph.flatMap(lambda x: [(x[0], (xx[0], xx[1])) for xx in x[1]])"
   ]
  },
  {
   "cell_type": "code",
   "execution_count": 9,
   "metadata": {},
   "outputs": [
    {
     "data": {
      "text/plain": [
       "(8, (12, 1))"
      ]
     },
     "execution_count": 9,
     "metadata": {},
     "output_type": "execute_result"
    }
   ],
   "source": [
    "g.collect()[22]"
   ]
  },
  {
   "cell_type": "code",
   "execution_count": 10,
   "metadata": {},
   "outputs": [],
   "source": [
    "from operator import add\n",
    "talk = g.map(lambda x: ((x[0], x[1][0]), x[1][1]))\n",
    "talk2 = talk.reduceByKey(add)"
   ]
  },
  {
   "cell_type": "code",
   "execution_count": 11,
   "metadata": {},
   "outputs": [
    {
     "data": {
      "text/plain": [
       "10731"
      ]
     },
     "execution_count": 11,
     "metadata": {},
     "output_type": "execute_result"
    }
   ],
   "source": [
    "len(talk.collect())"
   ]
  },
  {
   "cell_type": "code",
   "execution_count": 12,
   "metadata": {},
   "outputs": [
    {
     "data": {
      "text/plain": [
       "6901"
      ]
     },
     "execution_count": 12,
     "metadata": {},
     "output_type": "execute_result"
    }
   ],
   "source": [
    "len(talk2.collect())"
   ]
  },
  {
   "cell_type": "code",
   "execution_count": 13,
   "metadata": {},
   "outputs": [
    {
     "data": {
      "text/plain": [
       "974"
      ]
     },
     "execution_count": 13,
     "metadata": {},
     "output_type": "execute_result"
    }
   ],
   "source": [
    "len(talk2.filter(lambda x: x[1] < 0).collect())"
   ]
  },
  {
   "cell_type": "code",
   "execution_count": null,
   "metadata": {},
   "outputs": [],
   "source": []
  },
  {
   "cell_type": "code",
   "execution_count": null,
   "metadata": {},
   "outputs": [],
   "source": []
  },
  {
   "cell_type": "code",
   "execution_count": null,
   "metadata": {},
   "outputs": [],
   "source": []
  },
  {
   "cell_type": "code",
   "execution_count": null,
   "metadata": {},
   "outputs": [],
   "source": []
  },
  {
   "cell_type": "code",
   "execution_count": null,
   "metadata": {},
   "outputs": [],
   "source": []
  },
  {
   "cell_type": "code",
   "execution_count": null,
   "metadata": {},
   "outputs": [],
   "source": []
  },
  {
   "cell_type": "code",
   "execution_count": null,
   "metadata": {},
   "outputs": [],
   "source": []
  },
  {
   "cell_type": "code",
   "execution_count": null,
   "metadata": {},
   "outputs": [],
   "source": []
  },
  {
   "cell_type": "code",
   "execution_count": null,
   "metadata": {},
   "outputs": [],
   "source": []
  },
  {
   "cell_type": "code",
   "execution_count": null,
   "metadata": {},
   "outputs": [],
   "source": []
  },
  {
   "cell_type": "code",
   "execution_count": null,
   "metadata": {},
   "outputs": [],
   "source": []
  }
 ],
 "metadata": {
  "kernelspec": {
   "display_name": "Python 3",
   "language": "python",
   "name": "python3"
  },
  "language_info": {
   "codemirror_mode": {
    "name": "ipython",
    "version": 3
   },
   "file_extension": ".py",
   "mimetype": "text/x-python",
   "name": "python",
   "nbconvert_exporter": "python",
   "pygments_lexer": "ipython3",
   "version": "3.7.3"
  }
 },
 "nbformat": 4,
 "nbformat_minor": 2
}
